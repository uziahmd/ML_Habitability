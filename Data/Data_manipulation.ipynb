{
 "cells": [
  {
   "cell_type": "code",
   "execution_count": 1,
   "source": [
    "import csv\r\n",
    "import pandas as pd\r\n",
    "\r\n",
    "\r\n",
    "with open('Data-raw.csv', 'r') as rfile:\r\n",
    "    df = pd.read_csv(rfile)\r\n",
    "    df.dropna(\r\n",
    "    axis=0,\r\n",
    "    how='any',\r\n",
    "    thresh=None,\r\n",
    "    subset=None,\r\n",
    "    inplace=True)\r\n",
    "\r\n",
    "    print (df)\r\n",
    "    df.to_csv (r'Data-final.csv', index = False, header=True)"
   ],
   "outputs": [
    {
     "output_type": "stream",
     "name": "stdout",
     "text": [
      "Empty DataFrame\n",
      "Columns: [P_NAME, P_STATUS, P_MASS, P_MASS_ERROR_MIN, P_MASS_ERROR_MAX, P_RADIUS, P_RADIUS_ERROR_MIN, P_RADIUS_ERROR_MAX, P_YEAR, P_UPDATED, P_PERIOD, P_PERIOD_ERROR_MIN, P_PERIOD_ERROR_MAX, P_SEMI_MAJOR_AXIS, P_SEMI_MAJOR_AXIS_ERROR_MIN, P_SEMI_MAJOR_AXIS_ERROR_MAX, P_ECCENTRICITY, P_ECCENTRICITY_ERROR_MIN, P_ECCENTRICITY_ERROR_MAX, P_INCLINATION, P_INCLINATION_ERROR_MIN, P_INCLINATION_ERROR_MAX, P_OMEGA, P_OMEGA_ERROR_MIN, P_OMEGA_ERROR_MAX, P_TPERI, P_TPERI_ERROR_MIN, P_TPERI_ERROR_MAX, P_ANGULAR_DISTANCE, P_IMPACT_PARAMETER, P_IMPACT_PARAMETER_ERROR_MIN, P_IMPACT_PARAMETER_ERROR_MAX, P_TEMP_MEASURED, P_GEO_ALBEDO, P_GEO_ALBEDO_ERROR_MIN, P_GEO_ALBEDO_ERROR_MAX, P_DETECTION, P_DETECTION_MASS, P_DETECTION_RADIUS, P_ALT_NAMES, P_ATMOSPHERE, S_NAME, S_RA, S_DEC, S_MAG, S_DISTANCE, S_DISTANCE_ERROR_MIN, S_DISTANCE_ERROR_MAX, S_METALLICITY, S_METALLICITY_ERROR_MIN, S_METALLICITY_ERROR_MAX, S_MASS, S_MASS_ERROR_MIN, S_MASS_ERROR_MAX, S_RADIUS, S_RADIUS_ERROR_MIN, S_RADIUS_ERROR_MAX, S_TYPE, S_AGE, S_AGE_ERROR_MIN, S_AGE_ERROR_MAX, S_TEMPERATURE, S_TEMPERATURE_ERROR_MIN, S_TEMPERATURE_ERROR_MAX, S_DISC, S_MAGNETIC_FIELD, S_LOG_G, S_ALT_NAMES, P_ESCAPE, P_POTENTIAL, P_GRAVITY, P_DENSITY, P_HILL_SPHERE, P_DISTANCE, P_PERIASTRON, P_APASTRON, P_DISTANCE_EFF, P_FLUX, P_FLUX_MIN, P_FLUX_MAX, P_TEMP_EQUIL, P_TEMP_EQUIL_MIN, P_TEMP_EQUIL_MAX, P_TYPE, S_RADIUS_EST, S_TYPE_TEMP, S_RA_H, S_RA_T, S_DEC_T, S_LUMINOSITY, S_HZ_OPT_MIN, S_HZ_OPT_MAX, S_HZ_CON_MIN, S_HZ_CON_MAX, S_HZ_CON0_MIN, S_HZ_CON0_MAX, S_HZ_CON1_MIN, S_HZ_CON1_MAX, S_SNOW_LINE, S_ABIO_ZONE, ...]\n",
      "Index: []\n",
      "\n",
      "[0 rows x 112 columns]\n"
     ]
    }
   ],
   "metadata": {}
  },
  {
   "cell_type": "code",
   "execution_count": null,
   "source": [
    "#csv_f = csv.reader(rfile)\r\n",
    "    #data =[]\r\n",
    "    \r\n",
    "    #for row in csv_f:\r\n",
    "    #    data.append(row)\r\n",
    "    \r\n",
    "    #d = set()\r\n",
    "    #for row in data:\r\n",
    "    #    for x in row:\r\n",
    "    #        if x == \"\":\r\n",
    "    #            d.add(data.index(row))\r\n",
    "\r\n",
    "    #print(d)\r\n",
    "    #for x in d:\r\n",
    "    #    data.pop(x)\r\n",
    "\r\n",
    "    #column = []\r\n",
    "    #for row in data:\r\n",
    "    #    column.append(row[-1])\r\n",
    "    \r\n",
    "    #for a in range(len(column)):\r\n",
    "    #    if column[a] == \"0\":\r\n",
    "    #         column[a] = 'NO'\r\n",
    "    #    elif column[a] == \"1\":\r\n",
    "    #         column[a] = 'YES'\r\n",
    "\r\n",
    "    #for b in range(len(column)):\r\n",
    "    #    data[b][-1] = column[b]\r\n",
    "\r\n",
    "    #for num in range(2, 48):\r\n",
    "    #    column = []\r\n",
    "    #    for row in data:\r\n",
    "    #        column.append(row[num])\r\n",
    "\r\n",
    "    #    for a in range(len(column)):\r\n",
    "    #        if column[a] == \"\":\r\n",
    "    #            column[a] = 0\r\n",
    "    #        if a != 0:\r\n",
    "    #            column[a] = float(column[a])\r\n",
    "    \r\n",
    "    #    total = 0\r\n",
    "    #    for b in range(len(column)):\r\n",
    "    #        if b != 0:\r\n",
    "    #            total = total + column[b]\r\n",
    "    #    average = total/(len(column))\r\n",
    "\r\n",
    "    #    for a in range(len(column)):\r\n",
    "    #        if column[a] == 0.0:\r\n",
    "    #            column[a] = average\r\n",
    "\r\n",
    "    #    for b in range(len(column)):\r\n",
    "    #        data[b][num] = column[b]\r\n",
    "\r\n",
    "#with open('ep_f.csv', 'w', newline='') as wfile:\r\n",
    "#    w = csv.writer(wfile)\r\n",
    "#    w.writerows(df)"
   ],
   "outputs": [],
   "metadata": {}
  }
 ],
 "metadata": {
  "orig_nbformat": 4,
  "language_info": {
   "name": "python",
   "version": "3.8.6",
   "mimetype": "text/x-python",
   "codemirror_mode": {
    "name": "ipython",
    "version": 3
   },
   "pygments_lexer": "ipython3",
   "nbconvert_exporter": "python",
   "file_extension": ".py"
  },
  "kernelspec": {
   "name": "python3",
   "display_name": "Python 3.8.6 64-bit"
  },
  "interpreter": {
   "hash": "9ddfba760c93d0781cb88c4db9a31eb68ca4e1616821530f19d735f356a5c9ec"
  }
 },
 "nbformat": 4,
 "nbformat_minor": 2
}